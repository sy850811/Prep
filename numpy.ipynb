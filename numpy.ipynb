{
 "cells": [
  {
   "cell_type": "markdown",
   "metadata": {},
   "source": [
    "NUMPY\n",
    "- How to import\n",
    "- How to initialize a numpy array\n",
    "- accessing and updating elements of multidimentional array\n",
    "- array of zeros,1s,constant(full),identity, random\n",
    "- mathematical operations on numpy array, like\n",
    "    -Matrix multiplication\n",
    "    -Vector multiplication\n",
    "    -sum\n",
    "    -stack vs concatinate (in concatinate the number of dimentions do not change unlike stack)\n",
    "\n",
    "- Concatinating/stacking\n",
    "- reshape"
   ]
  },
  {
   "cell_type": "code",
   "execution_count": 1,
   "metadata": {},
   "outputs": [
    {
     "name": "stdout",
     "output_type": "stream",
     "text": [
      "(5,)\n",
      "<class 'numpy.ndarray'>\n",
      "1\n"
     ]
    }
   ],
   "source": [
    "import numpy as np\n",
    "a = np.array([1,2,3,4,5])\n",
    "print(a.shape)\n",
    "print(type(a))\n",
    "print(a[0])"
   ]
  },
  {
   "cell_type": "code",
   "execution_count": 2,
   "metadata": {},
   "outputs": [
    {
     "name": "stdout",
     "output_type": "stream",
     "text": [
      "(5, 1)\n",
      "1\n"
     ]
    }
   ],
   "source": [
    "b = np.array([[1],\n",
    "          [2],\n",
    "          [3],\n",
    "          [4],\n",
    "          [5]\n",
    "            ])\n",
    "print(b.shape)\n",
    "print(b[0,0])\n",
    "# this is incorrect "
   ]
  },
  {
   "cell_type": "code",
   "execution_count": 3,
   "metadata": {},
   "outputs": [],
   "source": [
    "c = np.array([[1,2,3],\n",
    "              [4,5,6]])"
   ]
  },
  {
   "cell_type": "code",
   "execution_count": 4,
   "metadata": {},
   "outputs": [
    {
     "name": "stdout",
     "output_type": "stream",
     "text": [
      "[1 2 3]\n",
      "[2 5]\n",
      "[[1 2]\n",
      " [4 5]]\n",
      "[[1 2 3]\n",
      " [4 5 6]]\n"
     ]
    }
   ],
   "source": [
    "print(c[0])\n",
    "print(c[:,1])\n",
    "print(c[:,:2])\n",
    "print(c)"
   ]
  },
  {
   "cell_type": "code",
   "execution_count": 5,
   "metadata": {},
   "outputs": [
    {
     "name": "stdout",
     "output_type": "stream",
     "text": [
      "[[99  2  3]\n",
      " [ 1  2  3]]\n"
     ]
    }
   ],
   "source": [
    "\n",
    "c[1]=[1,2,3]\n",
    "c[0,0] = 99\n",
    "print(c)"
   ]
  },
  {
   "cell_type": "code",
   "execution_count": 6,
   "metadata": {},
   "outputs": [
    {
     "name": "stdout",
     "output_type": "stream",
     "text": [
      "[[0. 0.]\n",
      " [0. 0.]\n",
      " [0. 0.]]\n",
      "[[1. 1. 1.]\n",
      " [1. 1. 1.]]\n",
      "\n",
      "\n",
      "[[5 5]\n",
      " [5 5]]\n",
      "\n",
      "\n",
      "[[1. 0. 0. 0.]\n",
      " [0. 1. 0. 0.]\n",
      " [0. 0. 1. 0.]\n",
      " [0. 0. 0. 1.]]\n",
      "\n",
      "\n",
      "[[0.74996831 0.82948971 0.33018399]\n",
      " [0.25576295 0.33749944 0.03249868]\n",
      " [0.01215546 0.88226491 0.57978852]]\n"
     ]
    }
   ],
   "source": [
    "print(np.zeros((3,2)))\n",
    "\n",
    "print(np.ones((2,3)))\n",
    "print(\"\\n\")\n",
    "print(np.full((2,2),5))\n",
    "print(\"\\n\")\n",
    "print(np.eye(4))\n",
    "print(\"\\n\")\n",
    "print(np.random.random((3,3)))"
   ]
  },
  {
   "cell_type": "code",
   "execution_count": 7,
   "metadata": {},
   "outputs": [
    {
     "name": "stdout",
     "output_type": "stream",
     "text": [
      "int64\n",
      "<class 'numpy.ndarray'>\n"
     ]
    }
   ],
   "source": [
    "print(c.dtype)\n",
    "print(type(c))"
   ]
  },
  {
   "cell_type": "code",
   "execution_count": 8,
   "metadata": {},
   "outputs": [],
   "source": [
    "x = np.array([[1,2],\n",
    "             [3,4]])\n",
    "y = np.array([[5,6],\n",
    "             [7,8]])"
   ]
  },
  {
   "cell_type": "code",
   "execution_count": 9,
   "metadata": {},
   "outputs": [
    {
     "name": "stdout",
     "output_type": "stream",
     "text": [
      "[[ 6  8]\n",
      " [10 12]]\n",
      "\n",
      "\n",
      "[[-4 -4]\n",
      " [-4 -4]]\n",
      "\n",
      "\n",
      "[[ 5 12]\n",
      " [21 32]]\n",
      "\n",
      "\n",
      "[[0.2        0.33333333]\n",
      " [0.42857143 0.5       ]]\n",
      "\n",
      "\n"
     ]
    }
   ],
   "source": [
    "print(x+y)\n",
    "print(\"\\n\")\n",
    "print(x-y)\n",
    "print(\"\\n\")\n",
    "print(x*y)\n",
    "print(\"\\n\")\n",
    "print(x/y)\n",
    "print(\"\\n\")"
   ]
  },
  {
   "cell_type": "code",
   "execution_count": 10,
   "metadata": {},
   "outputs": [
    {
     "name": "stdout",
     "output_type": "stream",
     "text": [
      "[[1 2]\n",
      " [3 4]]\n",
      "\n",
      "\n",
      "[[5 6]\n",
      " [7 8]]\n",
      "\n",
      "\n",
      "[[19 22]\n",
      " [43 50]]\n",
      "\n",
      "\n",
      "[[19 22]\n",
      " [43 50]]\n"
     ]
    }
   ],
   "source": [
    "print(x)\n",
    "print(\"\\n\")\n",
    "print(y)\n",
    "\n",
    "print(\"\\n\")\n",
    "\n",
    "print(x.dot(y))\n",
    "print(\"\\n\")\n",
    "print(np.dot(x,y))"
   ]
  },
  {
   "cell_type": "code",
   "execution_count": 11,
   "metadata": {},
   "outputs": [
    {
     "name": "stdout",
     "output_type": "stream",
     "text": [
      "30\n"
     ]
    }
   ],
   "source": [
    "a = np.array([1,2,3,4])\n",
    "b = np.array([1,2,3,4])\n",
    "print(a.dot(b))"
   ]
  },
  {
   "cell_type": "code",
   "execution_count": 12,
   "metadata": {},
   "outputs": [
    {
     "name": "stdout",
     "output_type": "stream",
     "text": [
      "[[1 2]\n",
      " [3 4]]\n",
      "[4 6]\n",
      "[3 7]\n"
     ]
    }
   ],
   "source": [
    "print(x)\n",
    "print(np.sum(x,axis=0))\n",
    "print(np.sum(x,axis=1))"
   ]
  },
  {
   "cell_type": "code",
   "execution_count": 13,
   "metadata": {},
   "outputs": [
    {
     "name": "stdout",
     "output_type": "stream",
     "text": [
      "[1 2 3 4] [1 2 3 4]\n",
      "\n",
      "\n",
      "(4,) (4,)\n",
      "\n",
      "\n",
      "[[1 2 3 4]\n",
      " [1 2 3 4]] (2, 4)\n",
      "\n",
      "\n",
      "[[1 1]\n",
      " [2 2]\n",
      " [3 3]\n",
      " [4 4]] (4, 2)\n"
     ]
    }
   ],
   "source": [
    "print(a,b)\n",
    "print(\"\\n\")\n",
    "print(a.shape,b.shape)\n",
    "print(\"\\n\")\n",
    "e = np.stack((a,b),axis = 0)\n",
    "print(e,e.shape)\n",
    "print(\"\\n\")\n",
    "f = np.stack((a,b),axis = 1)\n",
    "print(f,f.shape)\n",
    "\n"
   ]
  },
  {
   "cell_type": "code",
   "execution_count": 14,
   "metadata": {},
   "outputs": [
    {
     "name": "stdout",
     "output_type": "stream",
     "text": [
      "[[1 2]\n",
      " [3 4]]\n",
      "[[5 6]\n",
      " [7 8]]\n",
      "\n",
      "\n",
      "(2, 2)\n",
      "\n",
      "\n",
      "[[1 2 5 6]\n",
      " [3 4 7 8]]\n",
      "\n",
      "\n",
      "(2, 4)\n",
      "\n",
      "\n",
      "[[1 2]\n",
      " [3 4]\n",
      " [5 6]\n",
      " [7 8]]\n",
      "\n",
      "\n",
      "(4, 2)\n"
     ]
    }
   ],
   "source": [
    "print(x)\n",
    "print(y)\n",
    "print(\"\\n\")\n",
    "print(x.shape)\n",
    "g = np.concatenate((x,y),axis=1)\n",
    "print(\"\\n\")\n",
    "print(g)\n",
    "print(\"\\n\")\n",
    "print(g.shape)\n",
    "print(\"\\n\")\n",
    "g = np.concatenate((x,y),axis=0)\n",
    "print(g)\n",
    "print(\"\\n\")\n",
    "print(g.shape)"
   ]
  },
  {
   "cell_type": "code",
   "execution_count": 15,
   "metadata": {},
   "outputs": [
    {
     "name": "stdout",
     "output_type": "stream",
     "text": [
      "[[1 2]\n",
      " [3 4]]\n",
      "[[1 2]\n",
      " [3 4]]\n",
      "[[1 2]\n",
      " [3 4]]\n"
     ]
    }
   ],
   "source": [
    "a = a.reshape(2,2)\n",
    "print(a)\n",
    "a = a.reshape(2,-1)\n",
    "print(a)\n",
    "a = a.reshape(-1,2)\n",
    "print(a)"
   ]
  },
  {
   "cell_type": "code",
   "execution_count": 16,
   "metadata": {},
   "outputs": [
    {
     "name": "stdout",
     "output_type": "stream",
     "text": [
      "[0.  2.5 5.  7.5]\n"
     ]
    }
   ],
   "source": [
    "a = np.arange(0,10,2.5)\n",
    "print(a)"
   ]
  },
  {
   "cell_type": "markdown",
   "metadata": {},
   "source": [
    "Numpy Random Module\n",
    "\n",
    "- shuffle\n",
    "- rand"
   ]
  },
  {
   "cell_type": "code",
   "execution_count": 17,
   "metadata": {},
   "outputs": [
    {
     "name": "stdout",
     "output_type": "stream",
     "text": [
      "[2.5 7.5 0.  5. ]\n"
     ]
    }
   ],
   "source": [
    "np.random.shuffle(a)\n",
    "print(a)"
   ]
  },
  {
   "cell_type": "code",
   "execution_count": 18,
   "metadata": {},
   "outputs": [
    {
     "data": {
      "text/plain": [
       "array([[0.37566142, 0.62123003, 0.59945325],\n",
       "       [0.69474627, 0.27033065, 0.70160212]])"
      ]
     },
     "execution_count": 18,
     "metadata": {},
     "output_type": "execute_result"
    }
   ],
   "source": [
    "np.random.rand(2,3)"
   ]
  },
  {
   "cell_type": "code",
   "execution_count": 19,
   "metadata": {},
   "outputs": [
    {
     "data": {
      "text/plain": [
       "array([[-1.96533743, -0.12875079, -1.22888203],\n",
       "       [ 0.70017905, -0.54693391,  0.69548298]])"
      ]
     },
     "execution_count": 19,
     "metadata": {},
     "output_type": "execute_result"
    }
   ],
   "source": [
    "np.random.randn(2,3)\n",
    "#from normal distribution"
   ]
  },
  {
   "cell_type": "code",
   "execution_count": 20,
   "metadata": {},
   "outputs": [
    {
     "data": {
      "text/plain": [
       "array([5, 8, 6])"
      ]
     },
     "execution_count": 20,
     "metadata": {},
     "output_type": "execute_result"
    }
   ],
   "source": [
    "np.random.randint(5,10,3) #start end, # of elemts you need"
   ]
  },
  {
   "cell_type": "code",
   "execution_count": 21,
   "metadata": {},
   "outputs": [
    {
     "data": {
      "text/plain": [
       "2"
      ]
     },
     "execution_count": 21,
     "metadata": {},
     "output_type": "execute_result"
    }
   ],
   "source": [
    "np.random.choice([1,2,3,4,5]) #choose one number from the array"
   ]
  },
  {
   "cell_type": "code",
   "execution_count": 22,
   "metadata": {},
   "outputs": [],
   "source": [
    "np.random.seed(1) # fix randomization to replicate experiments and their results"
   ]
  },
  {
   "cell_type": "markdown",
   "metadata": {},
   "source": [
    "Numpy statistics"
   ]
  },
  {
   "cell_type": "code",
   "execution_count": 23,
   "metadata": {},
   "outputs": [],
   "source": [
    "a = [[1,2,3],\n",
    "     [4,5,6]]\n",
    "\n"
   ]
  },
  {
   "cell_type": "code",
   "execution_count": 24,
   "metadata": {},
   "outputs": [
    {
     "name": "stdout",
     "output_type": "stream",
     "text": [
      "3.5\n",
      "[2.5 3.5 4.5]\n",
      "[2. 5.]\n",
      "2.594071556762028\n",
      "[2.5 3.5 4.5]\n",
      "[2. 5.]\n",
      "6\n",
      "[4 5 6]\n",
      "[3 6]\n",
      "1\n",
      "[1 2 3]\n",
      "[1 4]\n",
      "2.9166666666666665\n",
      "[2.25 2.25 2.25]\n",
      "[0.66666667 0.66666667]\n",
      "1.707825127659933\n",
      "[1.5 1.5 1.5]\n",
      "[0.81649658 0.81649658]\n"
     ]
    }
   ],
   "source": [
    "\n",
    "print(np.mean(a),end=\"\\n\")\n",
    "print(np.mean(a,axis=0),end=\"\\n\")\n",
    "print(np.mean(a,axis=1),end=\"\\n\")\n",
    "\n",
    "#interesting that here the size is given not as a tuple #explore more\n",
    "print(np.average(a,weights=np.random.rand(2,3)),end=\"\\n\") #average is weighted mean\n",
    "print(np.average(a,axis=0),end=\"\\n\")\n",
    "print(np.average(a,axis=1),end=\"\\n\")\n",
    "\n",
    "print(np.max(a),end=\"\\n\")\n",
    "print(np.max(a,axis=0),end=\"\\n\")\n",
    "print(np.max(a,axis=1),end=\"\\n\")\n",
    "\n",
    "print(np.min(a),end=\"\\n\")\n",
    "print(np.min(a,axis=0),end=\"\\n\")\n",
    "print(np.min(a,axis=1),end=\"\\n\")\n",
    "\n",
    "print(np.var(a),end=\"\\n\")\n",
    "print(np.var(a,axis=0),end=\"\\n\")\n",
    "print(np.var(a,axis=1),end=\"\\n\")\n",
    "\n",
    "print(np.std(a),end=\"\\n\")\n",
    "print(np.std(a,axis=0),end=\"\\n\")\n",
    "print(np.std(a,axis=1),end=\"\\n\")"
   ]
  },
  {
   "cell_type": "code",
   "execution_count": 25,
   "metadata": {},
   "outputs": [
    {
     "data": {
      "text/plain": [
       "array([1, 2, 3, 4, 5, 6])"
      ]
     },
     "execution_count": 25,
     "metadata": {},
     "output_type": "execute_result"
    }
   ],
   "source": [
    "np.ravel(a)"
   ]
  },
  {
   "cell_type": "code",
   "execution_count": 26,
   "metadata": {},
   "outputs": [
    {
     "name": "stdout",
     "output_type": "stream",
     "text": [
      "[1 2 3 4 5 6]\n"
     ]
    }
   ],
   "source": [
    "#flatten a using flatten fuction\n",
    "a = np.array([[1,2,3],\n",
    "              [4,5,6]])\n",
    "print(a.flatten())\n"
   ]
  },
  {
   "cell_type": "code",
   "execution_count": 27,
   "metadata": {},
   "outputs": [],
   "source": [
    "a = np.array([1,2,3,4,5,6])"
   ]
  },
  {
   "cell_type": "code",
   "execution_count": 28,
   "metadata": {},
   "outputs": [
    {
     "data": {
      "text/plain": [
       "array([[1, 1],\n",
       "       [2, 2],\n",
       "       [3, 3],\n",
       "       [4, 4],\n",
       "       [5, 5],\n",
       "       [6, 6]])"
      ]
     },
     "execution_count": 28,
     "metadata": {},
     "output_type": "execute_result"
    }
   ],
   "source": [
    "np.column_stack((a,a))"
   ]
  },
  {
   "cell_type": "code",
   "execution_count": 29,
   "metadata": {},
   "outputs": [
    {
     "data": {
      "text/plain": [
       "array([[1, 2, 3],\n",
       "       [4, 5, 6]])"
      ]
     },
     "execution_count": 29,
     "metadata": {},
     "output_type": "execute_result"
    }
   ],
   "source": [
    "a.reshape(2,3)"
   ]
  },
  {
   "cell_type": "code",
   "execution_count": 30,
   "metadata": {},
   "outputs": [
    {
     "data": {
      "text/plain": [
       "array([1, 2, 3, 4, 5, 6])"
      ]
     },
     "execution_count": 30,
     "metadata": {},
     "output_type": "execute_result"
    }
   ],
   "source": [
    "a"
   ]
  },
  {
   "cell_type": "code",
   "execution_count": 31,
   "metadata": {},
   "outputs": [
    {
     "name": "stdout",
     "output_type": "stream",
     "text": [
      "<class 'list'>\n",
      "<class 'list'>\n"
     ]
    }
   ],
   "source": [
    "print(type(list(a)))\n",
    "print(type(a.tolist()))"
   ]
  },
  {
   "cell_type": "code",
   "execution_count": 32,
   "metadata": {},
   "outputs": [
    {
     "data": {
      "text/plain": [
       "6"
      ]
     },
     "execution_count": 32,
     "metadata": {},
     "output_type": "execute_result"
    }
   ],
   "source": [
    "np.size(a)"
   ]
  },
  {
   "cell_type": "code",
   "execution_count": 33,
   "metadata": {},
   "outputs": [
    {
     "data": {
      "text/plain": [
       "array([[12,  7, 13, 12],\n",
       "       [ 6,  9,  2,  4],\n",
       "       [14,  5,  2,  4],\n",
       "       [11, 12, 10, 12]])"
      ]
     },
     "execution_count": 33,
     "metadata": {},
     "output_type": "execute_result"
    }
   ],
   "source": [
    "a = np.random.randint(0,15,size=(4,4))\n",
    "a"
   ]
  },
  {
   "cell_type": "code",
   "execution_count": 34,
   "metadata": {},
   "outputs": [
    {
     "data": {
      "text/plain": [
       "array([7, 6, 9])"
      ]
     },
     "execution_count": 34,
     "metadata": {},
     "output_type": "execute_result"
    }
   ],
   "source": [
    "a[np.where((a>5) & (a<10))]"
   ]
  },
  {
   "cell_type": "code",
   "execution_count": 35,
   "metadata": {},
   "outputs": [
    {
     "data": {
      "text/plain": [
       "array([7, 6, 9])"
      ]
     },
     "execution_count": 35,
     "metadata": {},
     "output_type": "execute_result"
    }
   ],
   "source": [
    "a[(a>5) & (a<10)]"
   ]
  },
  {
   "cell_type": "code",
   "execution_count": 36,
   "metadata": {},
   "outputs": [
    {
     "data": {
      "text/plain": [
       "array([[12,  7, 13, 12],\n",
       "       [ 6,  9,  2,  4],\n",
       "       [14,  5,  2,  4],\n",
       "       [11, 12, 10, 12]])"
      ]
     },
     "execution_count": 36,
     "metadata": {},
     "output_type": "execute_result"
    }
   ],
   "source": [
    "a"
   ]
  },
  {
   "cell_type": "code",
   "execution_count": 37,
   "metadata": {},
   "outputs": [
    {
     "data": {
      "text/plain": [
       "array([[12,  7, 13, 12],\n",
       "       [ 6,  9,  2,  4],\n",
       "       [14,  5,  2,  4],\n",
       "       [11, 12, 10, 12]])"
      ]
     },
     "execution_count": 37,
     "metadata": {},
     "output_type": "execute_result"
    }
   ],
   "source": [
    "a"
   ]
  },
  {
   "cell_type": "code",
   "execution_count": 38,
   "metadata": {},
   "outputs": [
    {
     "data": {
      "text/plain": [
       "array([[12,  7, 13, 12],\n",
       "       [14,  5,  2,  4],\n",
       "       [11, 12, 10, 12]])"
      ]
     },
     "execution_count": 38,
     "metadata": {},
     "output_type": "execute_result"
    }
   ],
   "source": [
    "a[np.any((a>10),axis=1)]"
   ]
  },
  {
   "cell_type": "code",
   "execution_count": 39,
   "metadata": {},
   "outputs": [
    {
     "data": {
      "text/plain": [
       "array([], shape=(4, 0), dtype=int64)"
      ]
     },
     "execution_count": 39,
     "metadata": {},
     "output_type": "execute_result"
    }
   ],
   "source": [
    "a[:,np.all((a<10),axis=0)]"
   ]
  },
  {
   "cell_type": "code",
   "execution_count": 40,
   "metadata": {},
   "outputs": [],
   "source": [
    "a = np.random.rand(30,1)"
   ]
  },
  {
   "cell_type": "code",
   "execution_count": 41,
   "metadata": {},
   "outputs": [
    {
     "data": {
      "text/plain": [
       "array([[0.02738759, 0.67046751, 0.4173048 , 0.55868983, 0.14038694],\n",
       "       [0.19810149, 0.80074457, 0.96826158, 0.31342418, 0.69232262],\n",
       "       [0.87638915, 0.89460666, 0.08504421, 0.03905478, 0.16983042],\n",
       "       [0.8781425 , 0.09834683, 0.42110763, 0.95788953, 0.53316528],\n",
       "       [0.69187711, 0.31551563, 0.68650093, 0.83462567, 0.01828828],\n",
       "       [0.75014431, 0.98886109, 0.74816565, 0.28044399, 0.78927933]])"
      ]
     },
     "execution_count": 41,
     "metadata": {},
     "output_type": "execute_result"
    }
   ],
   "source": [
    "a.resize((6,5))\n",
    "a"
   ]
  },
  {
   "cell_type": "code",
   "execution_count": 42,
   "metadata": {},
   "outputs": [
    {
     "data": {
      "text/plain": [
       "array([[0.02738759, 0.67046751, 0.4173048 , 0.55868983, 0.14038694],\n",
       "       [0.19810149, 0.80074457, 0.96826158, 0.31342418, 0.69232262],\n",
       "       [0.87638915, 0.89460666, 0.08504421, 0.03905478, 0.16983042],\n",
       "       [0.8781425 , 0.09834683, 0.42110763, 0.95788953, 0.53316528],\n",
       "       [0.69187711, 0.31551563, 0.68650093, 0.83462567, 0.01828828],\n",
       "       [0.75014431, 0.98886109, 0.74816565, 0.28044399, 0.78927933]])"
      ]
     },
     "execution_count": 42,
     "metadata": {},
     "output_type": "execute_result"
    }
   ],
   "source": [
    "a.reshape((-1,5))"
   ]
  },
  {
   "cell_type": "code",
   "execution_count": 43,
   "metadata": {},
   "outputs": [],
   "source": [
    "img = np.arange(3*3*3).reshape(3,3,3)"
   ]
  },
  {
   "cell_type": "code",
   "execution_count": 44,
   "metadata": {},
   "outputs": [],
   "source": [
    "# Reversing the channels - couple things to note\n",
    "# - dimention (Channel,row,columns)\n",
    "# - img[::-1] is only accessing channels and reversingt he order instead . Index for row and column are not even mentioned here notice no comma if there was any column and rows there would eb commas"
   ]
  },
  {
   "cell_type": "code",
   "execution_count": 45,
   "metadata": {},
   "outputs": [
    {
     "data": {
      "text/plain": [
       "array([[0, 1, 2],\n",
       "       [3, 4, 5],\n",
       "       [6, 7, 8]])"
      ]
     },
     "execution_count": 45,
     "metadata": {},
     "output_type": "execute_result"
    }
   ],
   "source": [
    "img[0,:,:]"
   ]
  },
  {
   "cell_type": "code",
   "execution_count": 46,
   "metadata": {},
   "outputs": [
    {
     "data": {
      "text/plain": [
       "array([[ 9, 10, 11],\n",
       "       [12, 13, 14],\n",
       "       [15, 16, 17]])"
      ]
     },
     "execution_count": 46,
     "metadata": {},
     "output_type": "execute_result"
    }
   ],
   "source": [
    "img[1,:,:]"
   ]
  },
  {
   "cell_type": "code",
   "execution_count": 47,
   "metadata": {},
   "outputs": [
    {
     "data": {
      "text/plain": [
       "array([[18, 19, 20],\n",
       "       [21, 22, 23],\n",
       "       [24, 25, 26]])"
      ]
     },
     "execution_count": 47,
     "metadata": {},
     "output_type": "execute_result"
    }
   ],
   "source": [
    "img[2,:,:]"
   ]
  },
  {
   "cell_type": "code",
   "execution_count": 48,
   "metadata": {},
   "outputs": [
    {
     "data": {
      "text/plain": [
       "array([[[18, 19, 20],\n",
       "        [21, 22, 23],\n",
       "        [24, 25, 26]],\n",
       "\n",
       "       [[ 9, 10, 11],\n",
       "        [12, 13, 14],\n",
       "        [15, 16, 17]],\n",
       "\n",
       "       [[ 0,  1,  2],\n",
       "        [ 3,  4,  5],\n",
       "        [ 6,  7,  8]]])"
      ]
     },
     "execution_count": 48,
     "metadata": {},
     "output_type": "execute_result"
    }
   ],
   "source": [
    "img[::-1]"
   ]
  },
  {
   "cell_type": "markdown",
   "metadata": {},
   "source": [
    "Linear algebra"
   ]
  },
  {
   "cell_type": "code",
   "execution_count": 49,
   "metadata": {},
   "outputs": [
    {
     "name": "stdout",
     "output_type": "stream",
     "text": [
      "[[1]\n",
      " [2]\n",
      " [3]\n",
      " [4]]\n"
     ]
    },
    {
     "data": {
      "text/plain": [
       "(4, 1)"
      ]
     },
     "execution_count": 49,
     "metadata": {},
     "output_type": "execute_result"
    }
   ],
   "source": [
    "#scaler\n",
    "x = 5\n",
    "#vector\n",
    "x = np.array([[1],[2],[3],[4]]) #by default consider a 1D vector as a column vector\n",
    "print(x)\n",
    "x.shape"
   ]
  },
  {
   "cell_type": "code",
   "execution_count": 50,
   "metadata": {},
   "outputs": [
    {
     "data": {
      "image/png": "[encoded data removed]",
      "text/plain": [
       "<Figure size 100x100 with 1 Axes>"
      ]
     },
     "metadata": {},
     "output_type": "display_data"
    },
    {
     "data": {
      "image/png": "[encoded data removed]",
      "text/plain": [
       "<Figure size 100x100 with 1 Axes>"
      ]
     },
     "metadata": {},
     "output_type": "display_data"
    },
    {
     "data": {
      "image/png": "[encoded data removed]",
      "text/plain": [
       "<Figure size 100x100 with 1 Axes>"
      ]
     },
     "metadata": {},
     "output_type": "display_data"
    },
    {
     "data": {
      "image/png": "[encoded data removed]",
      "text/plain": [
       "<Figure size 100x100 with 1 Axes>"
      ]
     },
     "metadata": {},
     "output_type": "display_data"
    }
   ],
   "source": [
    "import matplotlib.pyplot as plt\n",
    "\n",
    "img = np.zeros((1,4,3),dtype=\"uint8\")\n",
    "plt.figure(figsize=(1, 1))\n",
    "plt.imshow(img)\n",
    "plt.show()\n",
    "\n",
    "img = np.zeros((1,4,3),dtype=\"uint8\")\n",
    "img[:,:,0] = 255\n",
    "plt.figure(figsize=(1, 1))\n",
    "plt.imshow(img)\n",
    "plt.show()\n",
    "\n",
    "img = np.zeros((1,4,3),dtype=\"uint8\")\n",
    "img[:, :, 1] = 255\n",
    "plt.figure(figsize=(1, 1))\n",
    "plt.imshow(img)\n",
    "plt.show()\n",
    "\n",
    "img = np.zeros((1,4,3),dtype=\"uint8\")\n",
    "img[:,:,2] = 255\n",
    "plt.figure(figsize=(1, 1))\n",
    "plt.imshow(img)\n",
    "plt.show()"
   ]
  },
  {
   "cell_type": "code",
   "execution_count": 51,
   "metadata": {},
   "outputs": [
    {
     "name": "stdout",
     "output_type": "stream",
     "text": [
      "[[[0 0 0]\n",
      "  [0 0 0]\n",
      "  [0 0 0]\n",
      "  [0 0 0]]]\n",
      "(1, 4, 3)\n",
      "(3, 4, 1)\n"
     ]
    }
   ],
   "source": [
    "#transposing\n",
    "img = np.zeros((1,4,3),dtype=\"uint8\")\n",
    "print(img)\n",
    "print(img.shape)\n",
    "print(img.T.shape)"
   ]
  },
  {
   "cell_type": "code",
   "execution_count": 52,
   "metadata": {},
   "outputs": [
    {
     "name": "stdout",
     "output_type": "stream",
     "text": [
      "(1, 4, 3)\n"
     ]
    },
    {
     "data": {
      "text/plain": [
       "(3, 1, 4)"
      ]
     },
     "execution_count": 52,
     "metadata": {},
     "output_type": "execute_result"
    }
   ],
   "source": [
    "#we can control transposing better with\n",
    "print(img.shape)\n",
    "np.transpose(img,axes=(2,0,1)).shape"
   ]
  },
  {
   "cell_type": "code",
   "execution_count": 53,
   "metadata": {},
   "outputs": [
    {
     "data": {
      "text/plain": [
       "array([ 6,  7,  8,  9, 10])"
      ]
     },
     "execution_count": 53,
     "metadata": {},
     "output_type": "execute_result"
    }
   ],
   "source": [
    "#broadcasting\n",
    "\n",
    "x = np.array([1,2,3,4,5])\n",
    "x+5"
   ]
  },
  {
   "cell_type": "code",
   "execution_count": 54,
   "metadata": {},
   "outputs": [
    {
     "data": {
      "text/plain": [
       "array([[ 2,  4,  6,  8, 10],\n",
       "       [ 7,  9, 11, 13, 15]])"
      ]
     },
     "execution_count": 54,
     "metadata": {},
     "output_type": "execute_result"
    }
   ],
   "source": [
    "y = np.array([[1,2,3,4,5],\n",
    "             [6,7,8,9,10]])\n",
    "x+y"
   ]
  },
  {
   "cell_type": "code",
   "execution_count": 55,
   "metadata": {},
   "outputs": [
    {
     "data": {
      "text/plain": [
       "array([[ 1,  4],\n",
       "       [36, 49]])"
      ]
     },
     "execution_count": 55,
     "metadata": {},
     "output_type": "execute_result"
    }
   ],
   "source": [
    "#element wise multiplication vs matrix multiplication\n",
    "\n",
    "a = np.array([[1,2],\n",
    "             [6,7]])\n",
    "\n",
    "b = np.array([[1,2],\n",
    "             [6,7]])\n",
    "\n",
    "a*b"
   ]
  },
  {
   "cell_type": "code",
   "execution_count": 56,
   "metadata": {},
   "outputs": [
    {
     "data": {
      "text/plain": [
       "array([[13, 16],\n",
       "       [48, 61]])"
      ]
     },
     "execution_count": 56,
     "metadata": {},
     "output_type": "execute_result"
    }
   ],
   "source": [
    "a.dot(b)"
   ]
  },
  {
   "cell_type": "code",
   "execution_count": 57,
   "metadata": {},
   "outputs": [
    {
     "data": {
      "text/plain": [
       "array([[13, 16],\n",
       "       [48, 61]])"
      ]
     },
     "execution_count": 57,
     "metadata": {},
     "output_type": "execute_result"
    }
   ],
   "source": [
    "np.dot(a,b)"
   ]
  },
  {
   "cell_type": "code",
   "execution_count": 58,
   "metadata": {},
   "outputs": [
    {
     "name": "stdout",
     "output_type": "stream",
     "text": [
      "5.0\n",
      "7.0\n",
      "4.0\n"
     ]
    }
   ],
   "source": [
    "#NORM - it is nothing but a way to fnd a magnitude of a vector. Like l2 . it is also called euclidean distance.\n",
    "\n",
    "x = np.array([3,4])\n",
    "\n",
    "l2 = np.linalg.norm(x)\n",
    "\n",
    "l1 = np.linalg.norm(x,ord=1)\n",
    "\n",
    "l_inf = np.linalg.norm(x,ord=np.Inf)\n",
    "\n",
    "print(l2)\n",
    "print(l1)\n",
    "print(l_inf)"
   ]
  },
  {
   "cell_type": "code",
   "execution_count": 59,
   "metadata": {},
   "outputs": [
    {
     "data": {
      "text/plain": [
       "-4.999999999999999"
      ]
     },
     "execution_count": 59,
     "metadata": {},
     "output_type": "execute_result"
    }
   ],
   "source": [
    "# Determinant\n",
    "a = np.array([[1,2],\n",
    "             [6,7]])\n",
    "np.linalg.det(a)"
   ]
  },
  {
   "cell_type": "code",
   "execution_count": 60,
   "metadata": {},
   "outputs": [
    {
     "name": "stdout",
     "output_type": "stream",
     "text": [
      "[[0.02941176 0.02941176]\n",
      " [0.11764706 0.11764706]]\n",
      "[[0.5 0.5]\n",
      " [0.5 0.5]]\n"
     ]
    }
   ],
   "source": [
    "#inverse\n",
    "a = np.array([[1,4],\n",
    "            [1,4]])\n",
    "\n",
    "#if det is zero we cant find inverse, in that case we can find pseudo inverse\n",
    "pinv = np.linalg.pinv(a)\n",
    "print(pinv)\n",
    "print(a.dot(pinv))\n",
    "\n",
    "#this will only give result when matrix is invertible, thus always use upar wala method\n",
    "# ainv = np.linalg.inv(a)\n",
    "# print(ainv)\n",
    "# #since a.ainv = 1\n",
    "# print(np.dot(a,ainv))\n",
    "\n",
    "\n",
    "\n"
   ]
  },
  {
   "cell_type": "code",
   "execution_count": 61,
   "metadata": {},
   "outputs": [
    {
     "data": {
      "text/plain": [
       "array([1., 2.])"
      ]
     },
     "execution_count": 61,
     "metadata": {},
     "output_type": "execute_result"
    }
   ],
   "source": [
    "# Solve system of equations\n",
    "\n",
    "a = np.array([[2,3],[3,1]])\n",
    "b = np.array([8,5])\n",
    "\n",
    "np.linalg.solve(a,b)"
   ]
  },
  {
   "cell_type": "code",
   "execution_count": 62,
   "metadata": {},
   "outputs": [
    {
     "data": {
      "text/plain": [
       "5.9287221489704836"
      ]
     },
     "execution_count": 62,
     "metadata": {},
     "output_type": "execute_result"
    }
   ],
   "source": [
    "np.linalg.norm(np.array([[2,-2,1],[-1,2,-1],[2,-4,1]]),ord=2)"
   ]
  },
  {
   "cell_type": "code",
   "execution_count": null,
   "metadata": {},
   "outputs": [],
   "source": []
  },
  {
   "cell_type": "code",
   "execution_count": null,
   "metadata": {},
   "outputs": [],
   "source": []
  }
 ],
 "metadata": {
  "kernelspec": {
   "display_name": "Python 3",
   "language": "python",
   "name": "python3"
  },
  "language_info": {
   "codemirror_mode": {
    "name": "ipython",
    "version": 3
   },
   "file_extension": ".py",
   "mimetype": "text/x-python",
   "name": "python",
   "nbconvert_exporter": "python",
   "pygments_lexer": "ipython3",
   "version": "3.10.8"
  }
 },
 "nbformat": 4,
 "nbformat_minor": 2
}
