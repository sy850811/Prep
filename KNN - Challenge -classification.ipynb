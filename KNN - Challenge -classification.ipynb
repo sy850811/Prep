{
 "cells": [
  {
   "cell_type": "code",
   "execution_count": 1,
   "metadata": {},
   "outputs": [],
   "source": [
    "import numpy as np \n",
    "import matplotlib.pyplot as plt\n",
    "import pandas as pd \n",
    "from sklearn.model_selection import train_test_split\n",
    "from sklearn.preprocessing import StandardScaler\n",
    "from sklearn.model_selection import cross_val_score\n",
    "from sklearn.neighbors import LocalOutlierFactor"
   ]
  },
  {
   "cell_type": "code",
   "execution_count": 2,
   "metadata": {},
   "outputs": [],
   "source": [
    "class KNN():\n",
    "    def __init__(self,k,met=\"euc\"):\n",
    "        self.k = k\n",
    "        self.metric = met\n",
    "\n",
    "    def fit(self,X,y):\n",
    "        self.X = X\n",
    "        self.y = y\n",
    "\n",
    "    def distance(self,new_point):\n",
    "        if self.metric == 'man':\n",
    "            return np.sum(np.abs(self.X - new_point), axis=1)\n",
    "        elif self.metric == 'cos':\n",
    "            return 1 - np.dot(self.X, new_point) / (np.linalg.norm(self.X, axis=1) * np.linalg.norm(new_point))\n",
    "        elif self.metric == 'mah':\n",
    "            inv_cov = np.linalg.inv(np.cov(self.X.T))\n",
    "            diff = self.X - new_point\n",
    "            return np.sqrt(np.sum(np.dot(diff, inv_cov) * diff, axis=1))\n",
    "        else:\n",
    "            return np.linalg.norm(self.X - new_point, axis=1)  # Default: Euclidean\n",
    "\n",
    "    def decision(self,np_distance,weighted=False):\n",
    "        sortedDistance = np.sort(np_distance)[:self.k]\n",
    "        k_neighbours_idx = np.argsort(np_distance)[:self.k]\n",
    "        np_votes = self.y[k_neighbours_idx.astype(int),0]\n",
    "        classes,class_freq = np.unique(np_votes,return_counts=True)\n",
    "        if weighted:\n",
    "            weights = 1/(sortedDistance + np.finfo(float).eps)\n",
    "            normalized_weights = weights/np.linalg.norm(weights)\n",
    "            highestWeight = 0\n",
    "            for label in classes:\n",
    "                classWeight = np.sum(normalized_weights[np_votes == label])\n",
    "                if classWeight > highestWeight:\n",
    "                    decision = label\n",
    "        else:\n",
    "            decision = classes[np.argmax(class_freq)]\n",
    "        return decision\n",
    "\n",
    "    def predict(self,new_points):\n",
    "        \"\"\"\n",
    "        loop through each point\n",
    "        Find distance\n",
    "        Find top indexes\n",
    "        Find votes\n",
    "        Find decision\n",
    "        Stopre decision\n",
    "        \"\"\"\n",
    "        y_test = np.array([])\n",
    "        for idx,new_point in enumerate(new_points):\n",
    "            np_distance = self.distance(new_point)\n",
    "            decision = self.decision(np_distance,weighted=False)\n",
    "            y_test = np.append(y_test,decision)\n",
    "        return y_test\n",
    "\n",
    "    def evaluate(self,prediction,ground_truth):\n",
    "        return (np.sum(prediction == ground_truth[:,0])/ground_truth.shape[0]) * 100\n",
    "\n",
    "\n",
    "X = pd.read_csv(\"./Data/Diabetes_Xtrain.csv\").values\n",
    "y = pd.read_csv(\"./Data/Diabetes_Ytrain.csv\").values\n",
    "# scaler = StandardScaler()\n",
    "# X = scaler.fit_transform(X)\n",
    "lof = LocalOutlierFactor()\n",
    "outliers = lof.fit_predict(X)\n",
    "X = X[outliers == 1]\n",
    "y = y[outliers == 1]\n",
    "from sklearn.preprocessing import StandardScaler\n",
    "scaler = StandardScaler()\n",
    "X = scaler.fit_transform(X)\n",
    "\n",
    "\n",
    "\n",
    "\n",
    "\n",
    "# k = 65\n",
    "# accuracy = 0\n",
    "# while accuracy < 96:\n",
    "#     X_train,X_val,y_train,y_val = train_test_split(X,y,train_size=0.9,shuffle=True)\n",
    "#     classifier = KNN(k,\"cos\")\n",
    "#     classifier.fit(X_train,y_train)\n",
    "#     y_pred = classifier.predict(X_val)\n",
    "#     accuracy = classifier.evaluate(y_pred,y_val)\n",
    "#     if accuracy > 95:\n",
    "#         print(accuracy)"
   ]
  },
  {
   "cell_type": "code",
   "execution_count": 3,
   "metadata": {},
   "outputs": [],
   "source": [
    "k = 45\n",
    "classifier = KNN(k,\"euc\")\n",
    "classifier.fit(X,y)"
   ]
  },
  {
   "cell_type": "code",
   "execution_count": 4,
   "metadata": {},
   "outputs": [],
   "source": [
    "X_test = scaler.transform(pd.read_csv(\"./Data/Diabetes_Xtest.csv\").values)\n",
    "# X_test = pd.read_csv(\"./Data/Diabetes_Xtest.csv\").values\n",
    "# classifier.fit(X,y)\n",
    "y_test = classifier.predict(X_test)"
   ]
  },
  {
   "cell_type": "code",
   "execution_count": 5,
   "metadata": {},
   "outputs": [],
   "source": [
    "df = pd.DataFrame(y_test,columns = [\"Outcome\"],dtype=int)\n",
    "df.to_csv(\"./Data/Diabetes_predictions.csv\",index=False)"
   ]
  },
  {
   "cell_type": "code",
   "execution_count": null,
   "metadata": {},
   "outputs": [],
   "source": []
  }
 ],
 "metadata": {
  "kernelspec": {
   "display_name": "Python 3",
   "language": "python",
   "name": "python3"
  },
  "language_info": {
   "codemirror_mode": {
    "name": "ipython",
    "version": 3
   },
   "file_extension": ".py",
   "mimetype": "text/x-python",
   "name": "python",
   "nbconvert_exporter": "python",
   "pygments_lexer": "ipython3",
   "version": "3.10.8"
  }
 },
 "nbformat": 4,
 "nbformat_minor": 2
}
